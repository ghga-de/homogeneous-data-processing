{
 "cells": [
  {
   "cell_type": "markdown",
   "metadata": {},
   "source": [
    "This script filters MAF files for PASS and saves them in a new file (from Mark Polster)"
   ]
  },
  {
   "cell_type": "code",
   "execution_count": 5,
   "metadata": {},
   "outputs": [],
   "source": [
    "import pandas as pd\n",
    "import os\n",
    "import matplotlib.pyplot as plt\n",
    "import numpy as np\n",
    "import glob\n",
    "import gzip\n",
    "\n",
    "pd.set_option('display.max_columns', None)\n",
    "pd.set_option('display.max_colwidth', None)"
   ]
  },
  {
   "cell_type": "code",
   "execution_count": 6,
   "metadata": {},
   "outputs": [
    {
     "data": {
      "text/plain": [
       "48"
      ]
     },
     "execution_count": 6,
     "metadata": {},
     "output_type": "execute_result"
    }
   ],
   "source": [
    "# get all mafs\n",
    "pattern = '/Users/famke/01-ghga-project/homogeneous-data-processing/variantcalling/TCGA-CHOL/tcga-data/maf/*.maf'\n",
    "#pattern = '/Users/famke/01-ghga-project/homogeneous-data-processing/variantcalling/TCGA-CHOL/vcftomaf/results/*.maf'\n",
    "\n",
    "# List all files matching the pattern\n",
    "maf_files = glob.glob(pattern, recursive=True)\n",
    "len(maf_files)"
   ]
  },
  {
   "cell_type": "code",
   "execution_count": 7,
   "metadata": {},
   "outputs": [],
   "source": [
    "def get_header(file):\n",
    "    with open(file, 'rt') as f:\n",
    "        comments = []\n",
    "        for line in f:\n",
    "            if line.startswith('#'):\n",
    "                comments.append(line)\n",
    "            else:\n",
    "                break\n",
    "    return comments\n",
    "\n",
    "\n",
    "def write_header(file, header, pass_df):\n",
    "    with open(file, 'wt') as f:  # Open as text for writing\n",
    "        for comment in header:\n",
    "            f.write(comment)\n",
    "    # Append DataFrame to the same file\n",
    "    with open(file, 'at') as f:  # Open as text for appending\n",
    "        pass_df.to_csv(f, sep='\\t', index=False)"
   ]
  },
  {
   "cell_type": "code",
   "execution_count": 8,
   "metadata": {},
   "outputs": [
    {
     "name": "stderr",
     "output_type": "stream",
     "text": [
      "/var/folders/6r/tg5ddtfd68l0twgv17dznsj40000gp/T/ipykernel_41907/2968554296.py:6: DtypeWarning: Columns (75,121) have mixed types. Specify dtype option on import or set low_memory=False.\n",
      "  df = pd.read_csv(maf, sep='\\t', comment='#')\n",
      "/var/folders/6r/tg5ddtfd68l0twgv17dznsj40000gp/T/ipykernel_41907/2968554296.py:6: DtypeWarning: Columns (121) have mixed types. Specify dtype option on import or set low_memory=False.\n",
      "  df = pd.read_csv(maf, sep='\\t', comment='#')\n",
      "/var/folders/6r/tg5ddtfd68l0twgv17dznsj40000gp/T/ipykernel_41907/2968554296.py:6: DtypeWarning: Columns (115,116,117,119,121) have mixed types. Specify dtype option on import or set low_memory=False.\n",
      "  df = pd.read_csv(maf, sep='\\t', comment='#')\n",
      "/var/folders/6r/tg5ddtfd68l0twgv17dznsj40000gp/T/ipykernel_41907/2968554296.py:6: DtypeWarning: Columns (121) have mixed types. Specify dtype option on import or set low_memory=False.\n",
      "  df = pd.read_csv(maf, sep='\\t', comment='#')\n",
      "/var/folders/6r/tg5ddtfd68l0twgv17dznsj40000gp/T/ipykernel_41907/2968554296.py:6: DtypeWarning: Columns (121) have mixed types. Specify dtype option on import or set low_memory=False.\n",
      "  df = pd.read_csv(maf, sep='\\t', comment='#')\n",
      "/var/folders/6r/tg5ddtfd68l0twgv17dznsj40000gp/T/ipykernel_41907/2968554296.py:6: DtypeWarning: Columns (121) have mixed types. Specify dtype option on import or set low_memory=False.\n",
      "  df = pd.read_csv(maf, sep='\\t', comment='#')\n",
      "/var/folders/6r/tg5ddtfd68l0twgv17dznsj40000gp/T/ipykernel_41907/2968554296.py:6: DtypeWarning: Columns (121) have mixed types. Specify dtype option on import or set low_memory=False.\n",
      "  df = pd.read_csv(maf, sep='\\t', comment='#')\n",
      "/var/folders/6r/tg5ddtfd68l0twgv17dznsj40000gp/T/ipykernel_41907/2968554296.py:6: DtypeWarning: Columns (116,117,119) have mixed types. Specify dtype option on import or set low_memory=False.\n",
      "  df = pd.read_csv(maf, sep='\\t', comment='#')\n",
      "/var/folders/6r/tg5ddtfd68l0twgv17dznsj40000gp/T/ipykernel_41907/2968554296.py:6: DtypeWarning: Columns (121) have mixed types. Specify dtype option on import or set low_memory=False.\n",
      "  df = pd.read_csv(maf, sep='\\t', comment='#')\n",
      "/var/folders/6r/tg5ddtfd68l0twgv17dznsj40000gp/T/ipykernel_41907/2968554296.py:6: DtypeWarning: Columns (121) have mixed types. Specify dtype option on import or set low_memory=False.\n",
      "  df = pd.read_csv(maf, sep='\\t', comment='#')\n",
      "/var/folders/6r/tg5ddtfd68l0twgv17dznsj40000gp/T/ipykernel_41907/2968554296.py:6: DtypeWarning: Columns (116,117,119,121) have mixed types. Specify dtype option on import or set low_memory=False.\n",
      "  df = pd.read_csv(maf, sep='\\t', comment='#')\n",
      "/var/folders/6r/tg5ddtfd68l0twgv17dznsj40000gp/T/ipykernel_41907/2968554296.py:6: DtypeWarning: Columns (121) have mixed types. Specify dtype option on import or set low_memory=False.\n",
      "  df = pd.read_csv(maf, sep='\\t', comment='#')\n",
      "/var/folders/6r/tg5ddtfd68l0twgv17dznsj40000gp/T/ipykernel_41907/2968554296.py:6: DtypeWarning: Columns (121) have mixed types. Specify dtype option on import or set low_memory=False.\n",
      "  df = pd.read_csv(maf, sep='\\t', comment='#')\n",
      "/var/folders/6r/tg5ddtfd68l0twgv17dznsj40000gp/T/ipykernel_41907/2968554296.py:6: DtypeWarning: Columns (35,36,53,54,55,56,66,71,72,73,75,76,77,79,80,99,112,113,114,115,121,127) have mixed types. Specify dtype option on import or set low_memory=False.\n",
      "  df = pd.read_csv(maf, sep='\\t', comment='#')\n",
      "/var/folders/6r/tg5ddtfd68l0twgv17dznsj40000gp/T/ipykernel_41907/2968554296.py:6: DtypeWarning: Columns (121) have mixed types. Specify dtype option on import or set low_memory=False.\n",
      "  df = pd.read_csv(maf, sep='\\t', comment='#')\n",
      "/var/folders/6r/tg5ddtfd68l0twgv17dznsj40000gp/T/ipykernel_41907/2968554296.py:6: DtypeWarning: Columns (121) have mixed types. Specify dtype option on import or set low_memory=False.\n",
      "  df = pd.read_csv(maf, sep='\\t', comment='#')\n",
      "/var/folders/6r/tg5ddtfd68l0twgv17dznsj40000gp/T/ipykernel_41907/2968554296.py:6: DtypeWarning: Columns (116,117,119,121) have mixed types. Specify dtype option on import or set low_memory=False.\n",
      "  df = pd.read_csv(maf, sep='\\t', comment='#')\n",
      "/var/folders/6r/tg5ddtfd68l0twgv17dznsj40000gp/T/ipykernel_41907/2968554296.py:6: DtypeWarning: Columns (116,117,119,121) have mixed types. Specify dtype option on import or set low_memory=False.\n",
      "  df = pd.read_csv(maf, sep='\\t', comment='#')\n",
      "/var/folders/6r/tg5ddtfd68l0twgv17dznsj40000gp/T/ipykernel_41907/2968554296.py:6: DtypeWarning: Columns (121) have mixed types. Specify dtype option on import or set low_memory=False.\n",
      "  df = pd.read_csv(maf, sep='\\t', comment='#')\n",
      "/var/folders/6r/tg5ddtfd68l0twgv17dznsj40000gp/T/ipykernel_41907/2968554296.py:6: DtypeWarning: Columns (121) have mixed types. Specify dtype option on import or set low_memory=False.\n",
      "  df = pd.read_csv(maf, sep='\\t', comment='#')\n",
      "/var/folders/6r/tg5ddtfd68l0twgv17dznsj40000gp/T/ipykernel_41907/2968554296.py:6: DtypeWarning: Columns (116,117,119,121) have mixed types. Specify dtype option on import or set low_memory=False.\n",
      "  df = pd.read_csv(maf, sep='\\t', comment='#')\n",
      "/var/folders/6r/tg5ddtfd68l0twgv17dznsj40000gp/T/ipykernel_41907/2968554296.py:6: DtypeWarning: Columns (121) have mixed types. Specify dtype option on import or set low_memory=False.\n",
      "  df = pd.read_csv(maf, sep='\\t', comment='#')\n",
      "/var/folders/6r/tg5ddtfd68l0twgv17dznsj40000gp/T/ipykernel_41907/2968554296.py:6: DtypeWarning: Columns (121) have mixed types. Specify dtype option on import or set low_memory=False.\n",
      "  df = pd.read_csv(maf, sep='\\t', comment='#')\n",
      "/var/folders/6r/tg5ddtfd68l0twgv17dznsj40000gp/T/ipykernel_41907/2968554296.py:6: DtypeWarning: Columns (121) have mixed types. Specify dtype option on import or set low_memory=False.\n",
      "  df = pd.read_csv(maf, sep='\\t', comment='#')\n",
      "/var/folders/6r/tg5ddtfd68l0twgv17dznsj40000gp/T/ipykernel_41907/2968554296.py:6: DtypeWarning: Columns (121) have mixed types. Specify dtype option on import or set low_memory=False.\n",
      "  df = pd.read_csv(maf, sep='\\t', comment='#')\n",
      "/var/folders/6r/tg5ddtfd68l0twgv17dznsj40000gp/T/ipykernel_41907/2968554296.py:6: DtypeWarning: Columns (115,121) have mixed types. Specify dtype option on import or set low_memory=False.\n",
      "  df = pd.read_csv(maf, sep='\\t', comment='#')\n",
      "/var/folders/6r/tg5ddtfd68l0twgv17dznsj40000gp/T/ipykernel_41907/2968554296.py:6: DtypeWarning: Columns (121) have mixed types. Specify dtype option on import or set low_memory=False.\n",
      "  df = pd.read_csv(maf, sep='\\t', comment='#')\n",
      "/var/folders/6r/tg5ddtfd68l0twgv17dznsj40000gp/T/ipykernel_41907/2968554296.py:6: DtypeWarning: Columns (121) have mixed types. Specify dtype option on import or set low_memory=False.\n",
      "  df = pd.read_csv(maf, sep='\\t', comment='#')\n",
      "/var/folders/6r/tg5ddtfd68l0twgv17dznsj40000gp/T/ipykernel_41907/2968554296.py:6: DtypeWarning: Columns (116,117,119,121) have mixed types. Specify dtype option on import or set low_memory=False.\n",
      "  df = pd.read_csv(maf, sep='\\t', comment='#')\n",
      "/var/folders/6r/tg5ddtfd68l0twgv17dznsj40000gp/T/ipykernel_41907/2968554296.py:6: DtypeWarning: Columns (121) have mixed types. Specify dtype option on import or set low_memory=False.\n",
      "  df = pd.read_csv(maf, sep='\\t', comment='#')\n",
      "/var/folders/6r/tg5ddtfd68l0twgv17dznsj40000gp/T/ipykernel_41907/2968554296.py:6: DtypeWarning: Columns (115) have mixed types. Specify dtype option on import or set low_memory=False.\n",
      "  df = pd.read_csv(maf, sep='\\t', comment='#')\n",
      "/var/folders/6r/tg5ddtfd68l0twgv17dznsj40000gp/T/ipykernel_41907/2968554296.py:6: DtypeWarning: Columns (121) have mixed types. Specify dtype option on import or set low_memory=False.\n",
      "  df = pd.read_csv(maf, sep='\\t', comment='#')\n",
      "/var/folders/6r/tg5ddtfd68l0twgv17dznsj40000gp/T/ipykernel_41907/2968554296.py:6: DtypeWarning: Columns (121) have mixed types. Specify dtype option on import or set low_memory=False.\n",
      "  df = pd.read_csv(maf, sep='\\t', comment='#')\n"
     ]
    }
   ],
   "source": [
    "new_dir = \"/Users/famke/01-ghga-project/homogeneous-data-processing/variantcalling/TCGA-CHOL/tcga-data/mutect-maf-pass\"\n",
    "#new_dir = \"/Users/famke/01-ghga-project/homogeneous-data-processing/variantcalling/TCGA-CHOL/vcftomaf/results-pass\"\n",
    "\n",
    "for maf in maf_files:\n",
    "    header = get_header(maf)\n",
    "    df = pd.read_csv(maf, sep='\\t', comment='#')\n",
    "    pass_df = df[df['FILTER'] == 'PASS']\n",
    "    new_path = new_dir + \"/\" + maf.split('/')[-1].replace('.maf', '.pass.maf')\n",
    "    write_header(new_path, header, pass_df)"
   ]
  }
 ],
 "metadata": {
  "kernelspec": {
   "display_name": "work",
   "language": "python",
   "name": "python3"
  },
  "language_info": {
   "codemirror_mode": {
    "name": "ipython",
    "version": 3
   },
   "file_extension": ".py",
   "mimetype": "text/x-python",
   "name": "python",
   "nbconvert_exporter": "python",
   "pygments_lexer": "ipython3",
   "version": "3.12.4"
  }
 },
 "nbformat": 4,
 "nbformat_minor": 2
}
